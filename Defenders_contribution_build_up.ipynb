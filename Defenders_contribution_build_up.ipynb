{
 "cells": [
  {
   "cell_type": "markdown",
   "id": "7fad82ee",
   "metadata": {},
   "source": [
    "# Centre backs who contribute to the build-up phase"
   ]
  },
  {
   "cell_type": "code",
   "execution_count": 14,
   "id": "01131696",
   "metadata": {},
   "outputs": [],
   "source": [
    "###  Source of the data: https://fbref.com/\n",
    "#    Football competitions analyzed (6): American Major League Soccer, English Premier League, French Ligue 1, German Bundesliga, Italian Serie A, Spanish La Liga\n",
    "#    Main objective of the project: Find centre backs who contribute to the build-up phase.\n",
    "#  Notes:\n",
    "# - fbref doesn't show CBs separately in their tables, only defenders as 'DF'\n",
    "# - the following player filters have been applied:\n",
    "#    - the player is a DF (defender)\n",
    "#    - the player played at least 40% of their team's matches (at least 40% of squad 90s)\n",
    "#    - (vizualization) top 50 defenders only who has the highest touch / 90 min in the defensive 3rd\n",
    "\n",
    "## DF for All Players: df_final\n",
    "## DF for Top 50 Players in number of toucher per 90 minutes in the defensive third: df_final_50"
   ]
  },
  {
   "cell_type": "markdown",
   "id": "ff52c405",
   "metadata": {},
   "source": [
    "## Import libraries"
   ]
  },
  {
   "cell_type": "code",
   "execution_count": 55,
   "id": "ee4e40de",
   "metadata": {},
   "outputs": [],
   "source": [
    "import pandas as pd\n",
    "import numpy as np\n",
    "import seaborn as sns\n",
    "import matplotlib.pyplot as plt\n",
    "from adjustText import adjust_text\n",
    "import os\n",
    "import matplotlib.font_manager as fm\n",
    "from pylab import rcParams\n",
    "import requests\n",
    "import lxml\n",
    "import matplotlib as mpl\n"
   ]
  },
  {
   "cell_type": "code",
   "execution_count": 16,
   "id": "a1e9a5d9",
   "metadata": {},
   "outputs": [],
   "source": [
    "# I just added this lined\n",
    "# also added this"
   ]
  },
  {
   "cell_type": "markdown",
   "id": "74567211",
   "metadata": {},
   "source": [
    "## Import dataframes we'll need"
   ]
  },
  {
   "cell_type": "code",
   "execution_count": 17,
   "id": "f8aacb8b",
   "metadata": {},
   "outputs": [],
   "source": [
    "## 1 - build links list for df_passing\n",
    "## 1 - df_passing - (Passing table of players)\n",
    "\n",
    "links_passing = [\n",
    "    'https://fbref.com/en/comps/9/passing/Premier-League-Stats',\n",
    "    'https://fbref.com/en/comps/12/passing/La-Liga-Stats',\n",
    "    'https://fbref.com/en/comps/13/passing/Ligue-1-Stats',\n",
    "    'https://fbref.com/en/comps/20/passing/Bundesliga-Stats',\n",
    "    'https://fbref.com/en/comps/11/passing/Serie-A-Stats',\n",
    "    'https://fbref.com/en/comps/22/passing/Major-League-Soccer-Stats'\n",
    "]"
   ]
  },
  {
   "cell_type": "code",
   "execution_count": 18,
   "id": "3b2c3e92",
   "metadata": {},
   "outputs": [
    {
     "name": "stdout",
     "output_type": "stream",
     "text": [
      "(532, 31)\n"
     ]
    },
    {
     "name": "stderr",
     "output_type": "stream",
     "text": [
      "<ipython-input-18-3d267a4a9116>:6: FutureWarning: The frame.append method is deprecated and will be removed from pandas in a future version. Use pandas.concat instead.\n",
      "  df_passing = df_passing.append(data,ignore_index=True)\n"
     ]
    },
    {
     "name": "stdout",
     "output_type": "stream",
     "text": [
      "(606, 31)\n"
     ]
    },
    {
     "name": "stderr",
     "output_type": "stream",
     "text": [
      "<ipython-input-18-3d267a4a9116>:6: FutureWarning: The frame.append method is deprecated and will be removed from pandas in a future version. Use pandas.concat instead.\n",
      "  df_passing = df_passing.append(data,ignore_index=True)\n"
     ]
    },
    {
     "name": "stdout",
     "output_type": "stream",
     "text": [
      "(591, 31)\n"
     ]
    },
    {
     "name": "stderr",
     "output_type": "stream",
     "text": [
      "<ipython-input-18-3d267a4a9116>:6: FutureWarning: The frame.append method is deprecated and will be removed from pandas in a future version. Use pandas.concat instead.\n",
      "  df_passing = df_passing.append(data,ignore_index=True)\n"
     ]
    },
    {
     "name": "stdout",
     "output_type": "stream",
     "text": [
      "(505, 31)\n"
     ]
    },
    {
     "name": "stderr",
     "output_type": "stream",
     "text": [
      "<ipython-input-18-3d267a4a9116>:6: FutureWarning: The frame.append method is deprecated and will be removed from pandas in a future version. Use pandas.concat instead.\n",
      "  df_passing = df_passing.append(data,ignore_index=True)\n"
     ]
    },
    {
     "name": "stdout",
     "output_type": "stream",
     "text": [
      "(609, 31)\n"
     ]
    },
    {
     "name": "stderr",
     "output_type": "stream",
     "text": [
      "<ipython-input-18-3d267a4a9116>:6: FutureWarning: The frame.append method is deprecated and will be removed from pandas in a future version. Use pandas.concat instead.\n",
      "  df_passing = df_passing.append(data,ignore_index=True)\n"
     ]
    },
    {
     "name": "stdout",
     "output_type": "stream",
     "text": [
      "(772, 31)\n"
     ]
    },
    {
     "name": "stderr",
     "output_type": "stream",
     "text": [
      "<ipython-input-18-3d267a4a9116>:6: FutureWarning: The frame.append method is deprecated and will be removed from pandas in a future version. Use pandas.concat instead.\n",
      "  df_passing = df_passing.append(data,ignore_index=True)\n"
     ]
    },
    {
     "data": {
      "text/plain": [
       "(3615, 31)"
      ]
     },
     "execution_count": 18,
     "metadata": {},
     "output_type": "execute_result"
    }
   ],
   "source": [
    "df_passing = pd.DataFrame()\n",
    "for link in links_passing:\n",
    "    html_content = requests.get(link).text.replace('<!--', '').replace('-->', '')\n",
    "    data = pd.read_html(html_content)[2]\n",
    "    print(data.shape)\n",
    "    df_passing = df_passing.append(data,ignore_index=True)\n",
    "\n",
    "df_passing.shape # checking the output"
   ]
  },
  {
   "cell_type": "code",
   "execution_count": 19,
   "id": "d69319f6",
   "metadata": {},
   "outputs": [],
   "source": [
    "## 2 - build links for possession using the passing links URL - replacing keywords\n",
    "## 2 - df_possession - (Possession table of players)\n",
    "\n",
    "links_possession = []\n",
    "\n",
    "for link in links_passing:\n",
    "    new_link = link.replace(\"passing\", \"possession\")\n",
    "    links_possession.append(new_link)"
   ]
  },
  {
   "cell_type": "code",
   "execution_count": 13,
   "id": "11a18270",
   "metadata": {},
   "outputs": [
    {
     "name": "stdout",
     "output_type": "stream",
     "text": [
      "(532, 33)\n"
     ]
    },
    {
     "name": "stderr",
     "output_type": "stream",
     "text": [
      "<ipython-input-13-fdc8f8c42445>:6: FutureWarning: The frame.append method is deprecated and will be removed from pandas in a future version. Use pandas.concat instead.\n",
      "  df_possession = df_possession.append(data,ignore_index=True)\n"
     ]
    },
    {
     "name": "stdout",
     "output_type": "stream",
     "text": [
      "(606, 33)\n"
     ]
    },
    {
     "name": "stderr",
     "output_type": "stream",
     "text": [
      "<ipython-input-13-fdc8f8c42445>:6: FutureWarning: The frame.append method is deprecated and will be removed from pandas in a future version. Use pandas.concat instead.\n",
      "  df_possession = df_possession.append(data,ignore_index=True)\n"
     ]
    },
    {
     "name": "stdout",
     "output_type": "stream",
     "text": [
      "(591, 33)\n"
     ]
    },
    {
     "name": "stderr",
     "output_type": "stream",
     "text": [
      "<ipython-input-13-fdc8f8c42445>:6: FutureWarning: The frame.append method is deprecated and will be removed from pandas in a future version. Use pandas.concat instead.\n",
      "  df_possession = df_possession.append(data,ignore_index=True)\n"
     ]
    },
    {
     "name": "stdout",
     "output_type": "stream",
     "text": [
      "(505, 33)\n"
     ]
    },
    {
     "name": "stderr",
     "output_type": "stream",
     "text": [
      "<ipython-input-13-fdc8f8c42445>:6: FutureWarning: The frame.append method is deprecated and will be removed from pandas in a future version. Use pandas.concat instead.\n",
      "  df_possession = df_possession.append(data,ignore_index=True)\n"
     ]
    },
    {
     "name": "stdout",
     "output_type": "stream",
     "text": [
      "(609, 33)\n"
     ]
    },
    {
     "name": "stderr",
     "output_type": "stream",
     "text": [
      "<ipython-input-13-fdc8f8c42445>:6: FutureWarning: The frame.append method is deprecated and will be removed from pandas in a future version. Use pandas.concat instead.\n",
      "  df_possession = df_possession.append(data,ignore_index=True)\n"
     ]
    },
    {
     "name": "stdout",
     "output_type": "stream",
     "text": [
      "(772, 33)\n"
     ]
    },
    {
     "name": "stderr",
     "output_type": "stream",
     "text": [
      "<ipython-input-13-fdc8f8c42445>:6: FutureWarning: The frame.append method is deprecated and will be removed from pandas in a future version. Use pandas.concat instead.\n",
      "  df_possession = df_possession.append(data,ignore_index=True)\n"
     ]
    },
    {
     "data": {
      "text/plain": [
       "(3615, 33)"
      ]
     },
     "execution_count": 13,
     "metadata": {},
     "output_type": "execute_result"
    }
   ],
   "source": [
    "df_possession = pd.DataFrame()\n",
    "for link in links_possession:\n",
    "    html_content = requests.get(link).text.replace('<!--', '').replace('-->', '')\n",
    "    data = pd.read_html(html_content)[2]\n",
    "    print(data.shape)\n",
    "    df_possession = df_possession.append(data,ignore_index=True)\n",
    "    \n",
    "df_possession.shape # checking the output"
   ]
  },
  {
   "cell_type": "code",
   "execution_count": 20,
   "id": "18a9812e",
   "metadata": {},
   "outputs": [
    {
     "name": "stdout",
     "output_type": "stream",
     "text": [
      "(20, 25)\n"
     ]
    },
    {
     "name": "stderr",
     "output_type": "stream",
     "text": [
      "<ipython-input-20-8694285e470c>:9: FutureWarning: The frame.append method is deprecated and will be removed from pandas in a future version. Use pandas.concat instead.\n",
      "  df_teams = df_teams.append(data,ignore_index=True)\n"
     ]
    },
    {
     "name": "stdout",
     "output_type": "stream",
     "text": [
      "(20, 25)\n"
     ]
    },
    {
     "name": "stderr",
     "output_type": "stream",
     "text": [
      "<ipython-input-20-8694285e470c>:9: FutureWarning: The frame.append method is deprecated and will be removed from pandas in a future version. Use pandas.concat instead.\n",
      "  df_teams = df_teams.append(data,ignore_index=True)\n"
     ]
    },
    {
     "name": "stdout",
     "output_type": "stream",
     "text": [
      "(20, 25)\n"
     ]
    },
    {
     "name": "stderr",
     "output_type": "stream",
     "text": [
      "<ipython-input-20-8694285e470c>:9: FutureWarning: The frame.append method is deprecated and will be removed from pandas in a future version. Use pandas.concat instead.\n",
      "  df_teams = df_teams.append(data,ignore_index=True)\n"
     ]
    },
    {
     "name": "stdout",
     "output_type": "stream",
     "text": [
      "(18, 25)\n"
     ]
    },
    {
     "name": "stderr",
     "output_type": "stream",
     "text": [
      "<ipython-input-20-8694285e470c>:9: FutureWarning: The frame.append method is deprecated and will be removed from pandas in a future version. Use pandas.concat instead.\n",
      "  df_teams = df_teams.append(data,ignore_index=True)\n"
     ]
    },
    {
     "name": "stdout",
     "output_type": "stream",
     "text": [
      "(20, 25)\n"
     ]
    },
    {
     "name": "stderr",
     "output_type": "stream",
     "text": [
      "<ipython-input-20-8694285e470c>:9: FutureWarning: The frame.append method is deprecated and will be removed from pandas in a future version. Use pandas.concat instead.\n",
      "  df_teams = df_teams.append(data,ignore_index=True)\n"
     ]
    },
    {
     "name": "stdout",
     "output_type": "stream",
     "text": [
      "(27, 25)\n"
     ]
    },
    {
     "name": "stderr",
     "output_type": "stream",
     "text": [
      "<ipython-input-20-8694285e470c>:9: FutureWarning: The frame.append method is deprecated and will be removed from pandas in a future version. Use pandas.concat instead.\n",
      "  df_teams = df_teams.append(data,ignore_index=True)\n"
     ]
    },
    {
     "data": {
      "text/plain": [
       "(125, 25)"
      ]
     },
     "execution_count": 20,
     "metadata": {},
     "output_type": "execute_result"
    }
   ],
   "source": [
    "## 3 - links_passing to be used as the table is on the same page (same URL)\n",
    "## 3 - df_teams - (Teams table of players)\n",
    "\n",
    "df_teams = pd.DataFrame()\n",
    "for link in links_passing:\n",
    "    html_content = requests.get(link).text.replace('<!--', '').replace('-->', '')\n",
    "    data = pd.read_html(html_content)[0]\n",
    "    print(data.shape)\n",
    "    df_teams = df_teams.append(data,ignore_index=True)\n",
    "\n",
    "df_teams.shape # checking the output"
   ]
  },
  {
   "cell_type": "markdown",
   "id": "accf36e6",
   "metadata": {},
   "source": [
    "## Clean the Dataframes"
   ]
  },
  {
   "cell_type": "code",
   "execution_count": 21,
   "id": "943a48f0",
   "metadata": {},
   "outputs": [],
   "source": [
    "## drop multiIndices - drop level 0\n",
    "\n",
    "df_passing.columns = df_passing.columns.droplevel(level = 0)\n",
    "df_possession.columns = df_possession.columns.droplevel(level = 0)\n",
    "df_teams.columns = df_teams.columns.droplevel(level = 0)"
   ]
  },
  {
   "cell_type": "code",
   "execution_count": 22,
   "id": "f52a6102",
   "metadata": {},
   "outputs": [
    {
     "data": {
      "text/plain": [
       "Player                   136\n",
       "Jürgen Locadia             3\n",
       "Pierre-Yves Hamel          2\n",
       "Jordan Amavi               2\n",
       "Dominique Badji            2\n",
       "                        ... \n",
       "Mathieu Cafaro             1\n",
       "Yannick Cahuzac            1\n",
       "Marc-Aurèle Caillard       1\n",
       "Jens Cajuste               1\n",
       "Guðmundur Þórarinsson      1\n",
       "Name: Player, Length: 3328, dtype: int64"
      ]
     },
     "execution_count": 22,
     "metadata": {},
     "output_type": "execute_result"
    }
   ],
   "source": [
    "## check for Player names value counts\n",
    "\n",
    "df_passing['Player'].value_counts()"
   ]
  },
  {
   "cell_type": "code",
   "execution_count": 23,
   "id": "09360450",
   "metadata": {},
   "outputs": [],
   "source": [
    "## as both df_passing and df_possession are similar, we must drop rows where Player col == 'Player'\n",
    "\n",
    "df_passing = df_passing[df_passing['Player'] != 'Player']\n",
    "df_possession = df_possession[df_possession['Player'] != 'Player']"
   ]
  },
  {
   "cell_type": "code",
   "execution_count": 24,
   "id": "e8280374",
   "metadata": {},
   "outputs": [
    {
     "name": "stdout",
     "output_type": "stream",
     "text": [
      "['Rk' 'Player' 'Nation' 'Pos' 'Squad' 'Age' 'Born' '90s' 'Cmp' 'Att'\n",
      " 'Cmp%' 'TotDist' 'PrgDist' 'Cmp' 'Att' 'Cmp%' 'Cmp' 'Att' 'Cmp%' 'Cmp'\n",
      " 'Att' 'Cmp%' 'Ast' 'xA' 'A-xA' 'KP' '1/3' 'PPA' 'CrsPA' 'Prog' 'Matches']\n",
      "after change ['Rk' 'Player' 'Nation' 'Pos' 'Squad' 'Age' 'Born' '90s' 'Cmp' 'Att'\n",
      " 'Total_Passing%' 'TotDist' 'PrgDist' 'Cmp' 'Att' 'Cmp%' 'Cmp' 'Att'\n",
      " 'Cmp%' 'Cmp' 'Att' 'Cmp%' 'Ast' 'xA' 'A-xA' 'KP' '1/3' 'PPA' 'CrsPA'\n",
      " 'Prog' 'Matches']\n"
     ]
    }
   ],
   "source": [
    "## rename the first (10th value) (as MultiIndex level = 0 is dropped) CMP% (Total) as 'Total_Passing%' in the df_passing\n",
    "print(df_passing.columns.values)\n",
    "df_passing.columns.values[10] = 'Total_Passing%'\n",
    "print('after change', df_passing.columns.values)"
   ]
  },
  {
   "cell_type": "code",
   "execution_count": 25,
   "id": "5823ab77",
   "metadata": {},
   "outputs": [
    {
     "name": "stdout",
     "output_type": "stream",
     "text": [
      "type of first value: <class 'numpy.float64'>\n"
     ]
    }
   ],
   "source": [
    "## make sure that Total_Passing% is available for calculations\n",
    "df_passing['Total_Passing%'] = df_passing['Total_Passing%'].astype(float)\n",
    "print('type of first value:' , type(df_passing['Total_Passing%'][0]))"
   ]
  },
  {
   "cell_type": "code",
   "execution_count": 26,
   "id": "fb546921",
   "metadata": {},
   "outputs": [
    {
     "name": "stdout",
     "output_type": "stream",
     "text": [
      "type of first value: <class 'numpy.int32'>\n"
     ]
    }
   ],
   "source": [
    "## make sure that df_possession's Def 3rd column can be calculated with (looks like an int-alike string)\n",
    "df_possession['Def 3rd'] = df_possession['Def 3rd'].astype(int)\n",
    "print('type of first value:', type(df_possession['Def 3rd'][0]))"
   ]
  },
  {
   "cell_type": "code",
   "execution_count": null,
   "id": "92acf1e4",
   "metadata": {},
   "outputs": [],
   "source": []
  },
  {
   "cell_type": "markdown",
   "id": "b3f7ba6a",
   "metadata": {},
   "source": [
    "## Merge (join) df_passing with df_possession"
   ]
  },
  {
   "cell_type": "code",
   "execution_count": 27,
   "id": "b42f99e2",
   "metadata": {},
   "outputs": [
    {
     "data": {
      "text/plain": [
       "(3479, 59)"
      ]
     },
     "execution_count": 27,
     "metadata": {},
     "output_type": "execute_result"
    }
   ],
   "source": [
    "## joining on more columns to make sure they are joined well\n",
    "df = pd.merge(df_passing, df_possession, how = 'inner', on= ['Player', 'Nation', 'Pos','Squad', 'Born'])\n",
    "df.shape"
   ]
  },
  {
   "cell_type": "code",
   "execution_count": 28,
   "id": "66e150d8",
   "metadata": {},
   "outputs": [
    {
     "data": {
      "text/plain": [
       "Index(['Rk_x', 'Player', 'Nation', 'Pos', 'Squad', 'Age_x', 'Born', '90s_x',\n",
       "       'Cmp', 'Att_x', 'Total_Passing%', 'TotDist_x', 'PrgDist_x', 'Cmp',\n",
       "       'Att_x', 'Cmp%', 'Cmp', 'Att_x', 'Cmp%', 'Cmp', 'Att_x', 'Cmp%', 'Ast',\n",
       "       'xA', 'A-xA', 'KP', '1/3_x', 'PPA', 'CrsPA', 'Prog_x', 'Matches_x',\n",
       "       'Rk_y', 'Age_y', '90s_y', 'Touches', 'Def Pen', 'Def 3rd', 'Mid 3rd',\n",
       "       'Att 3rd', 'Att Pen', 'Live', 'Succ', 'Att_y', 'Succ%', '#Pl', 'Megs',\n",
       "       'Carries', 'TotDist_y', 'PrgDist_y', 'Prog_y', '1/3_y', 'CPA', 'Mis',\n",
       "       'Dis', 'Targ', 'Rec', 'Rec%', 'Prog_y', 'Matches_y'],\n",
       "      dtype='object')"
      ]
     },
     "execution_count": 28,
     "metadata": {},
     "output_type": "execute_result"
    }
   ],
   "source": [
    "df.columns"
   ]
  },
  {
   "cell_type": "markdown",
   "id": "1ff8177b",
   "metadata": {},
   "source": [
    "## Cleaning merged DF and calculations"
   ]
  },
  {
   "cell_type": "code",
   "execution_count": 29,
   "id": "48e624be",
   "metadata": {},
   "outputs": [],
   "source": [
    "## calculate Def 3rd touches per 90 minutes (90s_x column) --> df['Def 3rd/90']"
   ]
  },
  {
   "cell_type": "code",
   "execution_count": 30,
   "id": "ec8f05ae",
   "metadata": {},
   "outputs": [],
   "source": [
    "## for this, make 90s_x values available for calculations (float)\n",
    "df['90s_x'] = df['90s_x'].astype(float)"
   ]
  },
  {
   "cell_type": "code",
   "execution_count": 31,
   "id": "4becfb9e",
   "metadata": {},
   "outputs": [],
   "source": [
    "df['Def 3rd/90'] = df['Def 3rd'] / df['90s_x']"
   ]
  },
  {
   "cell_type": "code",
   "execution_count": 32,
   "id": "81f1a52b",
   "metadata": {},
   "outputs": [],
   "source": [
    "## NOW WE HAVE\n",
    "\n",
    "# Def 3rd/90\n",
    "# Total_Passing%"
   ]
  },
  {
   "cell_type": "code",
   "execution_count": 33,
   "id": "0267b0b3",
   "metadata": {},
   "outputs": [],
   "source": [
    "## Throw 0, na and inf values in these columns"
   ]
  },
  {
   "cell_type": "code",
   "execution_count": 34,
   "id": "af300302",
   "metadata": {},
   "outputs": [],
   "source": [
    "df = df[df['Def 3rd/90'] != 0]\n",
    "df = df[df['Total_Passing%'] != 0]"
   ]
  },
  {
   "cell_type": "code",
   "execution_count": 35,
   "id": "5e74ad93",
   "metadata": {},
   "outputs": [],
   "source": [
    "df = df[df['Def 3rd/90'].notna()]\n",
    "df = df[df['Total_Passing%'].notna()]"
   ]
  },
  {
   "cell_type": "code",
   "execution_count": 36,
   "id": "207ee0e7",
   "metadata": {},
   "outputs": [],
   "source": [
    "df = df[np.isfinite(df['Def 3rd/90'])]"
   ]
  },
  {
   "cell_type": "code",
   "execution_count": 37,
   "id": "3a029eaf",
   "metadata": {},
   "outputs": [
    {
     "data": {
      "text/plain": [
       "(3343, 60)"
      ]
     },
     "execution_count": 37,
     "metadata": {},
     "output_type": "execute_result"
    }
   ],
   "source": [
    "df.shape"
   ]
  },
  {
   "cell_type": "code",
   "execution_count": 38,
   "id": "d69546cd",
   "metadata": {},
   "outputs": [],
   "source": [
    "## select only DFs (might be LW / DF many times)\n",
    "df = df[df['Pos'].str.contains('DF')]"
   ]
  },
  {
   "cell_type": "code",
   "execution_count": 39,
   "id": "b33f2615",
   "metadata": {},
   "outputs": [],
   "source": [
    "## create df_final with the necessary columns only\n",
    "df_final = df[['Player', 'Nation', '90s_x', 'Pos', 'Squad', 'Age_x', 'Total_Passing%', 'Def 3rd/90']]"
   ]
  },
  {
   "cell_type": "code",
   "execution_count": 40,
   "id": "a834e572",
   "metadata": {},
   "outputs": [],
   "source": [
    "## merge df_final with df_teams to see the total 90s played per player - first, select the needed columns from df_teams\n",
    "df_teams= df_teams[['Squad', '90s']]"
   ]
  },
  {
   "cell_type": "code",
   "execution_count": 41,
   "id": "62698ca0",
   "metadata": {},
   "outputs": [],
   "source": [
    "## convert these to float\n",
    "df_teams['90s'] = df_teams['90s'].astype(float)"
   ]
  },
  {
   "cell_type": "code",
   "execution_count": 42,
   "id": "ad633365",
   "metadata": {},
   "outputs": [
    {
     "data": {
      "text/plain": [
       "(1329, 9)"
      ]
     },
     "execution_count": 42,
     "metadata": {},
     "output_type": "execute_result"
    }
   ],
   "source": [
    "df_final = df_final.merge(df_teams, on = 'Squad')\n",
    "df_final.shape"
   ]
  },
  {
   "cell_type": "code",
   "execution_count": 43,
   "id": "7541ceed",
   "metadata": {},
   "outputs": [
    {
     "data": {
      "text/html": [
       "<div>\n",
       "<style scoped>\n",
       "    .dataframe tbody tr th:only-of-type {\n",
       "        vertical-align: middle;\n",
       "    }\n",
       "\n",
       "    .dataframe tbody tr th {\n",
       "        vertical-align: top;\n",
       "    }\n",
       "\n",
       "    .dataframe thead th {\n",
       "        text-align: right;\n",
       "    }\n",
       "</style>\n",
       "<table border=\"1\" class=\"dataframe\">\n",
       "  <thead>\n",
       "    <tr style=\"text-align: right;\">\n",
       "      <th></th>\n",
       "      <th>Player</th>\n",
       "      <th>Nation</th>\n",
       "      <th>90s_x</th>\n",
       "      <th>Pos</th>\n",
       "      <th>Squad</th>\n",
       "      <th>Age_x</th>\n",
       "      <th>Total_Passing%</th>\n",
       "      <th>Def 3rd/90</th>\n",
       "      <th>90s</th>\n",
       "    </tr>\n",
       "  </thead>\n",
       "  <tbody>\n",
       "    <tr>\n",
       "      <th>0</th>\n",
       "      <td>Max Aarons</td>\n",
       "      <td>eng ENG</td>\n",
       "      <td>21.9</td>\n",
       "      <td>DF</td>\n",
       "      <td>Norwich City</td>\n",
       "      <td>22-038</td>\n",
       "      <td>74.8</td>\n",
       "      <td>21.598174</td>\n",
       "      <td>23.0</td>\n",
       "    </tr>\n",
       "    <tr>\n",
       "      <th>1</th>\n",
       "      <td>Sam Byram</td>\n",
       "      <td>eng ENG</td>\n",
       "      <td>1.7</td>\n",
       "      <td>DF,MF</td>\n",
       "      <td>Norwich City</td>\n",
       "      <td>28-148</td>\n",
       "      <td>67.9</td>\n",
       "      <td>21.764706</td>\n",
       "      <td>23.0</td>\n",
       "    </tr>\n",
       "    <tr>\n",
       "      <th>2</th>\n",
       "      <td>Dimitris Giannoulis</td>\n",
       "      <td>gr GRE</td>\n",
       "      <td>6.1</td>\n",
       "      <td>DF</td>\n",
       "      <td>Norwich City</td>\n",
       "      <td>26-117</td>\n",
       "      <td>75.6</td>\n",
       "      <td>27.213115</td>\n",
       "      <td>23.0</td>\n",
       "    </tr>\n",
       "    <tr>\n",
       "      <th>3</th>\n",
       "      <td>Ben Gibson</td>\n",
       "      <td>eng ENG</td>\n",
       "      <td>18.7</td>\n",
       "      <td>DF</td>\n",
       "      <td>Norwich City</td>\n",
       "      <td>29-027</td>\n",
       "      <td>82.5</td>\n",
       "      <td>38.181818</td>\n",
       "      <td>23.0</td>\n",
       "    </tr>\n",
       "    <tr>\n",
       "      <th>4</th>\n",
       "      <td>Grant Hanley</td>\n",
       "      <td>sct SCO</td>\n",
       "      <td>18.2</td>\n",
       "      <td>DF</td>\n",
       "      <td>Norwich City</td>\n",
       "      <td>30-083</td>\n",
       "      <td>85.9</td>\n",
       "      <td>34.835165</td>\n",
       "      <td>23.0</td>\n",
       "    </tr>\n",
       "  </tbody>\n",
       "</table>\n",
       "</div>"
      ],
      "text/plain": [
       "                Player   Nation  90s_x    Pos         Squad   Age_x  \\\n",
       "0           Max Aarons  eng ENG   21.9     DF  Norwich City  22-038   \n",
       "1            Sam Byram  eng ENG    1.7  DF,MF  Norwich City  28-148   \n",
       "2  Dimitris Giannoulis   gr GRE    6.1     DF  Norwich City  26-117   \n",
       "3           Ben Gibson  eng ENG   18.7     DF  Norwich City  29-027   \n",
       "4         Grant Hanley  sct SCO   18.2     DF  Norwich City  30-083   \n",
       "\n",
       "   Total_Passing%  Def 3rd/90   90s  \n",
       "0            74.8   21.598174  23.0  \n",
       "1            67.9   21.764706  23.0  \n",
       "2            75.6   27.213115  23.0  \n",
       "3            82.5   38.181818  23.0  \n",
       "4            85.9   34.835165  23.0  "
      ]
     },
     "execution_count": 43,
     "metadata": {},
     "output_type": "execute_result"
    }
   ],
   "source": [
    "df_final.head()"
   ]
  },
  {
   "cell_type": "code",
   "execution_count": 44,
   "id": "7009595c",
   "metadata": {},
   "outputs": [
    {
     "data": {
      "text/html": [
       "<div>\n",
       "<style scoped>\n",
       "    .dataframe tbody tr th:only-of-type {\n",
       "        vertical-align: middle;\n",
       "    }\n",
       "\n",
       "    .dataframe tbody tr th {\n",
       "        vertical-align: top;\n",
       "    }\n",
       "\n",
       "    .dataframe thead th {\n",
       "        text-align: right;\n",
       "    }\n",
       "</style>\n",
       "<table border=\"1\" class=\"dataframe\">\n",
       "  <thead>\n",
       "    <tr style=\"text-align: right;\">\n",
       "      <th></th>\n",
       "      <th>Player</th>\n",
       "      <th>Nation</th>\n",
       "      <th>90s_x</th>\n",
       "      <th>Pos</th>\n",
       "      <th>Squad</th>\n",
       "      <th>Age_x</th>\n",
       "      <th>Total_Passing%</th>\n",
       "      <th>Def 3rd/90</th>\n",
       "      <th>90s</th>\n",
       "    </tr>\n",
       "  </thead>\n",
       "  <tbody>\n",
       "    <tr>\n",
       "      <th>0</th>\n",
       "      <td>Max Aarons</td>\n",
       "      <td>eng ENG</td>\n",
       "      <td>21.9</td>\n",
       "      <td>DF</td>\n",
       "      <td>Norwich City</td>\n",
       "      <td>22-038</td>\n",
       "      <td>74.8</td>\n",
       "      <td>21.598174</td>\n",
       "      <td>23.0</td>\n",
       "    </tr>\n",
       "    <tr>\n",
       "      <th>1</th>\n",
       "      <td>Sam Byram</td>\n",
       "      <td>eng ENG</td>\n",
       "      <td>1.7</td>\n",
       "      <td>DF,MF</td>\n",
       "      <td>Norwich City</td>\n",
       "      <td>28-148</td>\n",
       "      <td>67.9</td>\n",
       "      <td>21.764706</td>\n",
       "      <td>23.0</td>\n",
       "    </tr>\n",
       "    <tr>\n",
       "      <th>2</th>\n",
       "      <td>Dimitris Giannoulis</td>\n",
       "      <td>gr GRE</td>\n",
       "      <td>6.1</td>\n",
       "      <td>DF</td>\n",
       "      <td>Norwich City</td>\n",
       "      <td>26-117</td>\n",
       "      <td>75.6</td>\n",
       "      <td>27.213115</td>\n",
       "      <td>23.0</td>\n",
       "    </tr>\n",
       "    <tr>\n",
       "      <th>3</th>\n",
       "      <td>Ben Gibson</td>\n",
       "      <td>eng ENG</td>\n",
       "      <td>18.7</td>\n",
       "      <td>DF</td>\n",
       "      <td>Norwich City</td>\n",
       "      <td>29-027</td>\n",
       "      <td>82.5</td>\n",
       "      <td>38.181818</td>\n",
       "      <td>23.0</td>\n",
       "    </tr>\n",
       "    <tr>\n",
       "      <th>4</th>\n",
       "      <td>Grant Hanley</td>\n",
       "      <td>sct SCO</td>\n",
       "      <td>18.2</td>\n",
       "      <td>DF</td>\n",
       "      <td>Norwich City</td>\n",
       "      <td>30-083</td>\n",
       "      <td>85.9</td>\n",
       "      <td>34.835165</td>\n",
       "      <td>23.0</td>\n",
       "    </tr>\n",
       "  </tbody>\n",
       "</table>\n",
       "</div>"
      ],
      "text/plain": [
       "                Player   Nation  90s_x    Pos         Squad   Age_x  \\\n",
       "0           Max Aarons  eng ENG   21.9     DF  Norwich City  22-038   \n",
       "1            Sam Byram  eng ENG    1.7  DF,MF  Norwich City  28-148   \n",
       "2  Dimitris Giannoulis   gr GRE    6.1     DF  Norwich City  26-117   \n",
       "3           Ben Gibson  eng ENG   18.7     DF  Norwich City  29-027   \n",
       "4         Grant Hanley  sct SCO   18.2     DF  Norwich City  30-083   \n",
       "\n",
       "   Total_Passing%  Def 3rd/90   90s  \n",
       "0            74.8   21.598174  23.0  \n",
       "1            67.9   21.764706  23.0  \n",
       "2            75.6   27.213115  23.0  \n",
       "3            82.5   38.181818  23.0  \n",
       "4            85.9   34.835165  23.0  "
      ]
     },
     "execution_count": 44,
     "metadata": {},
     "output_type": "execute_result"
    }
   ],
   "source": [
    "df_final.head()"
   ]
  },
  {
   "cell_type": "code",
   "execution_count": 45,
   "id": "22cd1cf0",
   "metadata": {},
   "outputs": [
    {
     "data": {
      "text/plain": [
       "Index(['Player', 'Nation', '90s_x', 'Pos', 'Squad', 'Age_x', 'Total_Passing%',\n",
       "       'Def 3rd/90', '90s'],\n",
       "      dtype='object')"
      ]
     },
     "execution_count": 45,
     "metadata": {},
     "output_type": "execute_result"
    }
   ],
   "source": [
    "## Only select players who played at least 40% of their team totals\n",
    "## 90s_x / Team Total Matches Played  >= 40%\n",
    "\n",
    "df_final.columns"
   ]
  },
  {
   "cell_type": "code",
   "execution_count": 46,
   "id": "9664b1b4",
   "metadata": {},
   "outputs": [],
   "source": [
    "df_final = df_final[df_final['90s_x'] / df_final['90s']> 0.4]"
   ]
  },
  {
   "cell_type": "code",
   "execution_count": 47,
   "id": "6234e1ab",
   "metadata": {},
   "outputs": [
    {
     "data": {
      "text/plain": [
       "(700, 9)"
      ]
     },
     "execution_count": 47,
     "metadata": {},
     "output_type": "execute_result"
    }
   ],
   "source": [
    "df_final.shape"
   ]
  },
  {
   "cell_type": "code",
   "execution_count": 48,
   "id": "8ce2d2e6",
   "metadata": {},
   "outputs": [],
   "source": [
    "## sort values by Def 3rd/90 touches (Number of touches per 90 minutes) - select the top 50 only for easier vizualization\n",
    "df_final_50 = df_final.sort_values(by = ['Def 3rd/90'], ascending = False)[0:50]"
   ]
  },
  {
   "cell_type": "code",
   "execution_count": 49,
   "id": "684f4668",
   "metadata": {},
   "outputs": [
    {
     "data": {
      "text/html": [
       "<div>\n",
       "<style scoped>\n",
       "    .dataframe tbody tr th:only-of-type {\n",
       "        vertical-align: middle;\n",
       "    }\n",
       "\n",
       "    .dataframe tbody tr th {\n",
       "        vertical-align: top;\n",
       "    }\n",
       "\n",
       "    .dataframe thead th {\n",
       "        text-align: right;\n",
       "    }\n",
       "</style>\n",
       "<table border=\"1\" class=\"dataframe\">\n",
       "  <thead>\n",
       "    <tr style=\"text-align: right;\">\n",
       "      <th></th>\n",
       "      <th>Player</th>\n",
       "      <th>Nation</th>\n",
       "      <th>90s_x</th>\n",
       "      <th>Pos</th>\n",
       "      <th>Squad</th>\n",
       "      <th>Age_x</th>\n",
       "      <th>Total_Passing%</th>\n",
       "      <th>Def 3rd/90</th>\n",
       "      <th>90s</th>\n",
       "    </tr>\n",
       "  </thead>\n",
       "  <tbody>\n",
       "    <tr>\n",
       "      <th>1258</th>\n",
       "      <td>Bressan</td>\n",
       "      <td>br BRA</td>\n",
       "      <td>19.4</td>\n",
       "      <td>DF</td>\n",
       "      <td>FC Dallas</td>\n",
       "      <td>28</td>\n",
       "      <td>89.1</td>\n",
       "      <td>48.298969</td>\n",
       "      <td>34.0</td>\n",
       "    </tr>\n",
       "    <tr>\n",
       "      <th>125</th>\n",
       "      <td>Lewis Dunk</td>\n",
       "      <td>eng ENG</td>\n",
       "      <td>14.0</td>\n",
       "      <td>DF</td>\n",
       "      <td>Brighton</td>\n",
       "      <td>30-082</td>\n",
       "      <td>91.2</td>\n",
       "      <td>48.071429</td>\n",
       "      <td>22.0</td>\n",
       "    </tr>\n",
       "    <tr>\n",
       "      <th>68</th>\n",
       "      <td>Joachim Andersen</td>\n",
       "      <td>dk DEN</td>\n",
       "      <td>17.4</td>\n",
       "      <td>DF</td>\n",
       "      <td>Crystal Palace</td>\n",
       "      <td>25-256</td>\n",
       "      <td>85.7</td>\n",
       "      <td>47.873563</td>\n",
       "      <td>23.0</td>\n",
       "    </tr>\n",
       "    <tr>\n",
       "      <th>1299</th>\n",
       "      <td>Andreu Fontàs</td>\n",
       "      <td>es ESP</td>\n",
       "      <td>33.0</td>\n",
       "      <td>DF</td>\n",
       "      <td>Sporting KC</td>\n",
       "      <td>31</td>\n",
       "      <td>90.5</td>\n",
       "      <td>47.666667</td>\n",
       "      <td>34.0</td>\n",
       "    </tr>\n",
       "    <tr>\n",
       "      <th>975</th>\n",
       "      <td>Igor</td>\n",
       "      <td>br BRA</td>\n",
       "      <td>10.5</td>\n",
       "      <td>DF</td>\n",
       "      <td>Fiorentina</td>\n",
       "      <td>24-004</td>\n",
       "      <td>91.9</td>\n",
       "      <td>47.428571</td>\n",
       "      <td>23.0</td>\n",
       "    </tr>\n",
       "  </tbody>\n",
       "</table>\n",
       "</div>"
      ],
      "text/plain": [
       "                Player   Nation  90s_x Pos           Squad   Age_x  \\\n",
       "1258           Bressan   br BRA   19.4  DF       FC Dallas      28   \n",
       "125         Lewis Dunk  eng ENG   14.0  DF        Brighton  30-082   \n",
       "68    Joachim Andersen   dk DEN   17.4  DF  Crystal Palace  25-256   \n",
       "1299     Andreu Fontàs   es ESP   33.0  DF     Sporting KC      31   \n",
       "975               Igor   br BRA   10.5  DF      Fiorentina  24-004   \n",
       "\n",
       "      Total_Passing%  Def 3rd/90   90s  \n",
       "1258            89.1   48.298969  34.0  \n",
       "125             91.2   48.071429  22.0  \n",
       "68              85.7   47.873563  23.0  \n",
       "1299            90.5   47.666667  34.0  \n",
       "975             91.9   47.428571  23.0  "
      ]
     },
     "execution_count": 49,
     "metadata": {},
     "output_type": "execute_result"
    }
   ],
   "source": [
    "df_final_50.head()"
   ]
  },
  {
   "cell_type": "markdown",
   "id": "5fabef49",
   "metadata": {},
   "source": [
    "## Plot the df_final_50 (top 50 defenders in number of touches per 90 minutes in relation to the total passing % of that player)"
   ]
  },
  {
   "cell_type": "code",
   "execution_count": 57,
   "id": "52629c9d",
   "metadata": {},
   "outputs": [
    {
     "data": {
      "image/png": "[encoded data removed]",
      "text/plain": [
       "<Figure size 1440x1080 with 1 Axes>"
      ]
     },
     "metadata": {},
     "output_type": "display_data"
    }
   ],
   "source": [
    "x = df_final_50['Total_Passing%']\n",
    "y = df_final_50['Def 3rd/90']\n",
    "labels = df_final_50['Player']\n",
    "\n",
    "sns.set(rc={'axes.facecolor':'#1d2849', 'figure.facecolor':'#1d2849', 'xtick.color':'#96b4c8', 'ytick.color':'#96b4c8', 'grid.color' : '#00a7e7', 'figure.figsize':(20,15)})\n",
    "\n",
    "fpath = os.path.join(mpl.get_data_path(), r\"C:\\Users\\barnabas.nemeth\\Downloads\\static\\Rubik-Regular.ttf\")\n",
    "prop = fm.FontProperties(fname =fpath)\n",
    "texts = [plt.text(x_pos, y_pos, f'{l}', fontproperties = prop, color ='white', fontsize = 'large') for (x_pos, y_pos, l) in zip(x,y,labels)]\n",
    "ax1 = sns.scatterplot(x = x ,y = y, legend = False)\n",
    "\n",
    "ax1.set_xlabel('Player Total Passing in %' , color='white', fontsize = 20,fontproperties = prop)\n",
    "ax1.set_ylabel('Touches in the defensive third per 90 minutes', color ='white', fontsize = 20, fontproperties = prop)\n",
    "ax1.tick_params(axis='both', labelsize=15)\n",
    "ax1.set_title('Defenders who contribute to the build-up play with high level of passing accuracy', color = 'white', fontsize = 25,fontproperties = prop)\n",
    "\n",
    "adjust_text(texts) ## note: the adjust_text function may cause slow-down issues depending on the size of the dataframe (currently top 50)\n",
    "\n",
    "plt.savefig('Defenders_contribution_build-up.png')\n",
    "plt.show()"
   ]
  }
 ],
 "metadata": {
  "kernelspec": {
   "display_name": "Python 3",
   "language": "python",
   "name": "python3"
  },
  "language_info": {
   "codemirror_mode": {
    "name": "ipython",
    "version": 3
   },
   "file_extension": ".py",
   "mimetype": "text/x-python",
   "name": "python",
   "nbconvert_exporter": "python",
   "pygments_lexer": "ipython3",
   "version": "3.9.4"
  }
 },
 "nbformat": 4,
 "nbformat_minor": 5
}
